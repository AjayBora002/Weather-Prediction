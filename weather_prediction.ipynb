{
  "nbformat": 4,
  "nbformat_minor": 0,
  "metadata": {
    "colab": {
      "provenance": [],
      "mount_file_id": "https://gist.github.com/AjayBora002/adaaedc414131a44bdad6e44be3914c9#file-weather_prediction-ipynb",
      "authorship_tag": "ABX9TyNrzQe24bbBdZQ3l6Z9qGfi",
      "include_colab_link": true
    },
    "kernelspec": {
      "name": "python3",
      "display_name": "Python 3"
    },
    "language_info": {
      "name": "python"
    }
  },
  "cells": [
    {
      "cell_type": "markdown",
      "metadata": {
        "id": "view-in-github",
        "colab_type": "text"
      },
      "source": [
        "<a href=\"https://colab.research.google.com/github/AjayBora002/Weather-Prediction/blob/main/weather_prediction.ipynb\" target=\"_parent\"><img src=\"https://colab.research.google.com/assets/colab-badge.svg\" alt=\"Open In Colab\"/></a>"
      ]
    },
    {
      "cell_type": "markdown",
      "source": [
        "**Section 1 : Import Libraries**"
      ],
      "metadata": {
        "id": "mw5DmmdgrJ2o"
      }
    },
    {
      "cell_type": "code",
      "execution_count": 1,
      "metadata": {
        "id": "tgkNC8Jg3Pgx"
      },
      "outputs": [],
      "source": [
        "import requests # This library helps us to fetch data from API\n",
        "import pandas as pd # FOr handling and analyzing data\n",
        "import numpy as np # for numerical operations\n",
        "from sklearn.model_selection import train_test_split # to split data into training and testing sets\n",
        "from sklearn.preprocessing import LabelEncoder # to convert catogerial data into numerical values\n",
        "from sklearn.ensemble import RandomForestClassifier, RandomForestRegressor #model for classification and regression tasks\n",
        "from sklearn.metrics import mean_squared_error # to measure the accuracy of our prediction\n",
        "from datetime import datetime, timedelta # to handle date and time\n",
        "import pytz"
      ]
    },
    {
      "cell_type": "code",
      "source": [
        "API_KEY ='2d735c6f248acf337e16b7d15c5837ac' #REPLACE WITH YOUR ACTUAL API key\n",
        "BASE_URL='https://api.openweathermap.org/data/2.5/' #base url for making API requests\n"
      ],
      "metadata": {
        "id": "Y2jjGF8Oucfj"
      },
      "execution_count": 2,
      "outputs": []
    },
    {
      "cell_type": "markdown",
      "source": [
        "**1.Fetch Current Weather Data**"
      ],
      "metadata": {
        "id": "J16Md4IEvUFi"
      }
    },
    {
      "cell_type": "code",
      "source": [
        "def get_current_weather(city):\n",
        "  url = f\"{BASE_URL}weather?q={city}&appid={API_KEY}&units=metric\" #construct the API request URL\n",
        "  response = requests.get(url) # sends the get request to API\n",
        "  data = response.json()\n",
        "  return {\n",
        "      'city' : data['name'],\n",
        "      'current_temp' : round(data['main']['temp']),\n",
        "      'feels_like' : round(data['main']['feels_like']),\n",
        "      'temp_min' : round(data['main']['temp_min']),\n",
        "      'temp_max' : round(data['main']['temp_max']),\n",
        "      'humidity' : round(data['main']['humidity']),\n",
        "      'description':data['weather'][0]['description'],\n",
        "      'country' :data['sys']['country'],\n",
        "      'Wind_Gust_Speed' : data['wind']['speed'],\n",
        "      'Wind_Gust_Dir' : data['wind']['deg']\n",
        "\n",
        "  }"
      ],
      "metadata": {
        "id": "v8RiNBDEvtoC"
      },
      "execution_count": 3,
      "outputs": []
    },
    {
      "cell_type": "markdown",
      "source": [
        "2**.Read Historical Data**"
      ],
      "metadata": {
        "id": "IEzYJqLG0M90"
      }
    },
    {
      "cell_type": "code",
      "source": [
        "def read_historical_data(filename):\n",
        "  df = pd.read_csv(\"https://raw.githubusercontent.com/AjayBora002/Weather-Prediction/refs/heads/main/weather.csv\") #load csv file into dataframe\n",
        "  df=df.dropna() #remove rows with missing values\n",
        "  df=df.drop_duplicates()\n",
        "  return df"
      ],
      "metadata": {
        "id": "YFlVZkK70StD"
      },
      "execution_count": 14,
      "outputs": []
    },
    {
      "cell_type": "code",
      "source": [
        "from google.colab import drive\n",
        "drive.mount('/content/drive')"
      ],
      "metadata": {
        "colab": {
          "base_uri": "https://localhost:8080/"
        },
        "id": "-ajNkMjhYYhj",
        "outputId": "b025278f-b713-4c48-9f1f-6336775972c2"
      },
      "execution_count": 15,
      "outputs": [
        {
          "output_type": "stream",
          "name": "stdout",
          "text": [
            "Drive already mounted at /content/drive; to attempt to forcibly remount, call drive.mount(\"/content/drive\", force_remount=True).\n"
          ]
        }
      ]
    },
    {
      "cell_type": "markdown",
      "source": [
        "**3. Prepare data for training**"
      ],
      "metadata": {
        "id": "3RFJRWaM9HyV"
      }
    },
    {
      "cell_type": "code",
      "source": [
        "def prepare_data(data):\n",
        "  le = LabelEncoder() #create a labelencodr instance\n",
        "  data['RainTomorrow'] = le.fit_transform(data['RainTomorrow'])\n",
        "\n",
        "  #define the feature variable and target variable\n",
        "  X=data[['MaxTemp','MinTemp','Temp','Humidity','WindGustSpeed','WindGustDir']]\n",
        "  y = data['RainTomorrow'] #target variable\n",
        "  return X,y,le"
      ],
      "metadata": {
        "id": "ywJsuoTh9WmF"
      },
      "execution_count": 16,
      "outputs": []
    },
    {
      "cell_type": "markdown",
      "source": [
        "**4. train rain prediction model**"
      ],
      "metadata": {
        "id": "PerPnjOgvo19"
      }
    },
    {
      "cell_type": "code",
      "source": [
        "def train_rain_model(X,y):\n",
        "  X_train, X_test, y_train ,y_test = train_test_split(X,y, test_size=0.2, random_state=42)\n",
        "  model = RandomForestClassifier(n_estimators=100, random_state=42)\n",
        "  model.fit(X_train, y_train) #train the model\n",
        "\n",
        "  y_pred = model.predict(X_test)  #to make predictions on test set\n",
        "  print(\"mean squared error for rain model\")\n",
        "  print(mean_squared_error(y_test, y_pred))\n",
        "  return model"
      ],
      "metadata": {
        "id": "ltwIuvsTvxfa"
      },
      "execution_count": 17,
      "outputs": []
    },
    {
      "cell_type": "markdown",
      "source": [
        "**5.prepare regression data**"
      ],
      "metadata": {
        "id": "6Ob6RUtFzW8z"
      }
    },
    {
      "cell_type": "code",
      "source": [
        "def prepare_regression_data(data, feature):\n",
        "  X,y = [], []\n",
        "\n",
        "  for i in range(len(data) -1):\n",
        "    X.append(data[feature].iloc[i])\n",
        "    y.append(data[feature].iloc[i+1])\n",
        "  X=np.array(X).reshape(-1, 1)\n",
        "  y=np.array(y)\n",
        "  return X,y"
      ],
      "metadata": {
        "id": "gHrNXRdwzb3-"
      },
      "execution_count": 18,
      "outputs": []
    },
    {
      "cell_type": "markdown",
      "source": [
        "6**.train regression model**"
      ],
      "metadata": {
        "id": "oyP7COi_0rYk"
      }
    },
    {
      "cell_type": "code",
      "source": [
        "def train_regression_model(X,y):\n",
        "  model = RandomForestRegressor(n_estimators=100, random_state=42)\n",
        "  model.fit(X, y)\n",
        "  return model\n"
      ],
      "metadata": {
        "id": "mYL4zRtS0wei"
      },
      "execution_count": 19,
      "outputs": []
    },
    {
      "cell_type": "markdown",
      "source": [
        "**7. predict future**"
      ],
      "metadata": {
        "id": "f43qPljJ1Xzb"
      }
    },
    {
      "cell_type": "code",
      "source": [
        "def predict_future(model, current_value):\n",
        "  predictions = [current_value]\n",
        "\n",
        "  for i in range(5):\n",
        "    next_value = model.predict(np.array([[predictions[-1]]]))\n",
        "    predictions.append(next_value[0])\n",
        "  return predictions[1:]\n"
      ],
      "metadata": {
        "id": "to573aBV1bkO"
      },
      "execution_count": 20,
      "outputs": []
    },
    {
      "cell_type": "markdown",
      "source": [
        "**8. Weather analysis functi**on"
      ],
      "metadata": {
        "id": "c0RBEAiU2KUw"
      }
    },
    {
      "cell_type": "code",
      "source": [
        "def weather_view():\n",
        "  city = input('Enter any city name: ')\n",
        "  current_weather = get_current_weather(city)\n",
        "\n",
        "  #load historical data\n",
        "  historical_data= read_historical_data('/content/weather.csv')\n",
        "\n",
        "  #prepare and train the rain prediction model\n",
        "\n",
        "  X, y, le = prepare_data(historical_data)\n",
        "\n",
        "  rain_model = train_rain_model(X,y)\n",
        "\n",
        "  current_data = {\n",
        "      'MaxTemp': current_weather['temp_max'],\n",
        "      'MinTemp': current_weather['temp_min'],\n",
        "      'Temp': current_weather['current_temp'],\n",
        "      'Humidity': current_weather['humidity'],\n",
        "      'WindGustSpeed': current_weather['Wind_Gust_Speed'],\n",
        "      'WindGustDir': current_weather['Wind_Gust_Dir'],\n",
        "\n",
        "   }\n",
        "\n",
        "\n",
        "  current_df = pd.DataFrame([current_data])\n",
        "\n",
        "   #rain prediction\n",
        "\n",
        "  rain_prediction = rain_model.predict(current_df)[0]\n",
        "\n",
        "   #prepare regression model for temp and humidity\n",
        "\n",
        "  X_temp, y_temp = prepare_regression_data(historical_data, 'Temp')\n",
        "  X_hum, y_hum = prepare_regression_data(historical_data, 'Humidity')\n",
        "  temp_model = train_regression_model(X_temp, y_temp)\n",
        "  hum_model = train_regression_model(X_hum, y_hum)\n",
        "\n",
        "#predict future temp and hum\n",
        "\n",
        "  future_temp = predict_future(temp_model, current_weather['temp_min'])\n",
        "\n",
        "  future_humidity = predict_future(hum_model, current_weather['humidity'])\n",
        "\n",
        "  timezone = pytz.timezone('Asia/Karachi')\n",
        "  now = datetime.now(timezone)\n",
        "  next_hour = now + timedelta(hours=1)\n",
        "  next_hour = next_hour.replace(minute=0, second=0, microsecond=0)\n",
        "  future_times = [(next_hour + timedelta(hours=i)).strftime(\"%H:00\") for i in range(5)]\n",
        "\n",
        "  #display results\n",
        "\n",
        "  print(f\"City : {city},{current_weather['country']}\")\n",
        "  print(f\"Current Temperature: {current_weather['current_temp']}\")\n",
        "  print(f\"Feels Like : {current_weather['feels_like']}\")\n",
        "  print(f\"Minimum Temperature : {current_weather['temp_min']}°C\")\n",
        "  print(f\"Maximum Temperature : {current_weather['temp_max']}°C\")\n",
        "  print(f\"Humidity : {current_weather['humidity']}%\")\n",
        "  print(f\"Weather Prediction : {current_weather['description']}\")\n",
        "  print(f\"Rain Prediction : {'Yes' if rain_prediction else 'No'}\")\n",
        "\n",
        "  print(\"\\nFuture Temperature Predictions : \")\n",
        "\n",
        "  for time, temp in zip(future_times, future_temp):\n",
        "    print(f\"{time}: {round(temp, 1)}°C\")\n",
        "\n",
        "  print(\"\\nFuture Humidity Predictions: \")\n",
        "\n",
        "  for time, humidity in zip(future_times, future_humidity):\n",
        "    print(f\"{time}: {round(humidity,1)}%\")\n",
        "\n",
        "weather_view()\n",
        "\n",
        "\n",
        "\n",
        "\n",
        "\n",
        "\n",
        "\n"
      ],
      "metadata": {
        "id": "y3d6cPJG2Qle",
        "colab": {
          "base_uri": "https://localhost:8080/"
        },
        "outputId": "374abb00-42dd-444d-95f3-0526365e394c"
      },
      "execution_count": 21,
      "outputs": [
        {
          "output_type": "stream",
          "name": "stdout",
          "text": [
            "Enter any city name: london\n",
            "mean squared error for rain model\n",
            "0.3333333333333333\n",
            "City : london,GB\n",
            "Current Temperature: 1\n",
            "Feels Like : -1\n",
            "Minimum Temperature : -2°C\n",
            "Maximum Temperature : 2°C\n",
            "Humidity : 91%\n",
            "Weather Prediction : scattered clouds\n",
            "Rain Prediction : No\n",
            "\n",
            "Future Temperature Predictions : \n",
            "12:00: 16.1°C\n",
            "13:00: 16.7°C\n",
            "14:00: 17.7°C\n",
            "15:00: 17.2°C\n",
            "16:00: 17.9°C\n",
            "\n",
            "Future Humidity Predictions: \n",
            "12:00: 74.5%\n",
            "13:00: 57.7%\n",
            "14:00: 63.4%\n",
            "15:00: 64.9%\n",
            "16:00: 65.1%\n"
          ]
        }
      ]
    }
  ]
}